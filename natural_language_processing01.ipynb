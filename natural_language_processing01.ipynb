{
  "nbformat": 4,
  "nbformat_minor": 0,
  "metadata": {
    "colab": {
      "provenance": [],
      "collapsed_sections": [],
      "authorship_tag": "ABX9TyNzpx2EMBDZ+MIYirMpfFpA",
      "include_colab_link": true
    },
    "kernelspec": {
      "name": "python3",
      "display_name": "Python 3"
    },
    "language_info": {
      "name": "python"
    }
  },
  "cells": [
    {
      "cell_type": "markdown",
      "metadata": {
        "id": "view-in-github",
        "colab_type": "text"
      },
      "source": [
        "<a href=\"https://colab.research.google.com/github/rieko0903/NaturalLanguageProcessing01/blob/test02/natural_language_processing01.ipynb\" target=\"_parent\"><img src=\"https://colab.research.google.com/assets/colab-badge.svg\" alt=\"Open In Colab\"/></a>"
      ]
    },
    {
      "cell_type": "markdown",
      "source": [
        "# pip"
      ],
      "metadata": {
        "id": "Pi-U4BuCMFqh"
      }
    },
    {
      "cell_type": "code",
      "source": [
        "!pip install janome"
      ],
      "metadata": {
        "colab": {
          "base_uri": "https://localhost:8080/"
        },
        "id": "PF8uq-0wLe6k",
        "outputId": "ba321aaf-bd5d-4231-e136-8264a1e2d7b8"
      },
      "execution_count": null,
      "outputs": [
        {
          "output_type": "stream",
          "name": "stdout",
          "text": [
            "Looking in indexes: https://pypi.org/simple, https://us-python.pkg.dev/colab-wheels/public/simple/\n",
            "Collecting janome\n",
            "  Downloading Janome-0.4.2-py2.py3-none-any.whl (19.7 MB)\n",
            "\u001b[K     |████████████████████████████████| 19.7 MB 1.2 MB/s \n",
            "\u001b[?25hInstalling collected packages: janome\n",
            "Successfully installed janome-0.4.2\n"
          ]
        }
      ]
    },
    {
      "cell_type": "markdown",
      "source": [
        "# import"
      ],
      "metadata": {
        "id": "ElG5tXx_MThs"
      }
    },
    {
      "cell_type": "code",
      "source": [
        "import tensorflow as tf\n",
        "import glob\n",
        "import logging\n",
        "import os\n",
        "import re\n",
        "import urllib\n",
        "import warnings\n",
        "import zipfile\n",
        "\n",
        "import gensim\n",
        "import numpy as np\n",
        "import tensorflow as tf\n",
        "\n",
        "from gensim.models.word2vec import Word2Vec\n",
        "from janome.tokenizer import Tokenizer"
      ],
      "metadata": {
        "id": "oBHGXieLMS4E"
      },
      "execution_count": 42,
      "outputs": []
    },
    {
      "cell_type": "code",
      "source": [
        "URL = 'https://www.aozora.gr.jp/cards/000879/files/4872_ruby_20864.zip'"
      ],
      "metadata": {
        "id": "w4lC70RvM_0X"
      },
      "execution_count": 43,
      "outputs": []
    },
    {
      "cell_type": "markdown",
      "source": [
        "# 文章の準備"
      ],
      "metadata": {
        "id": "EYJXpSXUNY87"
      }
    },
    {
      "cell_type": "markdown",
      "source": [
        "## 文章のダウンロード\n",
        "*   os内にフォルダを作成、zipファイルを展開\n",
        "*   中身のテキストを抽出\n",
        "*   データファイルをダウンロード"
      ],
      "metadata": {
        "id": "Tz8mVk871lvD"
      }
    },
    {
      "cell_type": "code",
      "source": [
        "def download(url):\n",
        "    # データファイルをダウンロードする\n",
        "    zip_file = re.split(r'/', url)[-1]\n",
        "\n",
        "    if not os.path.exists(zip_file):\n",
        "        print('Download URL')\n",
        "        print('URL:',url)\n",
        "        urllib.request.urlretrieve(url, zip_file)\n",
        "    else:\n",
        "        print('Download File exists')\n",
        "\n",
        "    # フォルダの生成\n",
        "    dir, ext = os.path.splitext(zip_file)\n",
        "    if not os.path.exists(dir):\n",
        "        os.makedirs(dir)\n",
        "\n",
        "    # zipファイルの展開\n",
        "    zip_obj = zipfile.ZipFile(zip_file, 'r')\n",
        "    zip_obj.extractall(dir)\n",
        "    zip_obj.close()\n",
        "\n",
        "    # zipファイルの削除\n",
        "    os.remove(zip_file)\n",
        "\n",
        "    # テキストファイルの抽出\n",
        "    path = os.path.join(dir,'*.txt')\n",
        "    list = glob.glob(path)\n",
        "    return list[0]"
      ],
      "metadata": {
        "id": "1G6x6DmRNcog"
      },
      "execution_count": 44,
      "outputs": []
    },
    {
      "cell_type": "markdown",
      "source": [
        "# 文書の整形\n",
        "* ルビやいらない文字（本文以外）の削除"
      ],
      "metadata": {
        "id": "K1ZzF_wtM9qx"
      }
    },
    {
      "cell_type": "code",
      "source": [
        "def convert(download_text):\n",
        "    binarydata = open(download_text, 'rb').read()\n",
        "    text = binarydata.decode('shift_jis')\n",
        " \n",
        "    # ルビ、注釈などの除去\n",
        "    text = re.split(r'\\-{5,}', text)[2]\n",
        "    text = re.split(r'底本：', text)[0]\n",
        "    text = re.sub(r'《.+?》', '', text)\n",
        "    text = re.sub(r'［＃.+?］', '', text)\n",
        "    text = text.strip()\n",
        "    return text"
      ],
      "metadata": {
        "id": "Pl8pCU7BNXos"
      },
      "execution_count": 45,
      "outputs": []
    },
    {
      "cell_type": "code",
      "source": [
        "t = Tokenizer(wakati=True)\n",
        "def MakeSet():\n",
        "    download_text = download(URL)\n",
        "    text = convert(download_text)\n",
        "    print(text)\n",
        "    print(\"----------------\")\n",
        "    wakati = t.tokenize(text)\n",
        "    for i in wakati:\n",
        "        print(i, end=\" \")\n",
        "        if i ==\"。\":\n",
        "            print(\"\")\n",
        "    vocab = sorted(set(text))\n"
      ],
      "metadata": {
        "id": "oVOxAIqiNumE"
      },
      "execution_count": 66,
      "outputs": []
    },
    {
      "cell_type": "code",
      "source": [
        "class AozoraText:\n",
        "  def __init__(self, url):\n",
        "    download_text = download(URL)\n",
        "    self.text = convert(download_text)\n",
        "    self.wakati, self.word2idx, self.idx2word, self.corpus = preprocess(self.text)\n",
        "\n",
        "  def make_writer_dataset(self, batch_size, seq_length):\n",
        "    data = tf.data.Dataset.from_tensor_slices(self.corpus)\n",
        "    sequences = data.batch(seq_length+1, drop_remainder=True)\n",
        "    dataset = sequences.map(split_input_target)\n",
        "    return dataset.shuffle(buffer_size=10000).batch(batch_size=batch_size, drop_remainder=True)"
      ],
      "metadata": {
        "id": "qpVx_rLpt7aq"
      },
      "execution_count": null,
      "outputs": []
    },
    {
      "cell_type": "code",
      "source": [
        "if __name__ == \"__main__\":\n",
        "    MakeSet()"
      ],
      "metadata": {
        "colab": {
          "base_uri": "https://localhost:8080/"
        },
        "id": "SvS-F-Rusp64",
        "outputId": "ea2b4c70-e689-4da1-c97b-50b7f5ce75ed"
      },
      "execution_count": 67,
      "outputs": [
        {
          "output_type": "stream",
          "name": "stdout",
          "text": [
            "Download URL\n",
            "URL: https://www.aozora.gr.jp/cards/000879/files/4872_ruby_20864.zip\n",
            "子供の時の愛読書は「西遊記」が第一である。これ等は今日でも僕の愛読書である。比喩談としてこれほどの傑作は、西洋には一つもないであらうと思ふ。名高いバンヤンの「天路歴程」なども到底この「西遊記」の敵ではない。それから「水滸伝」も愛読書の一つである。これも今以て愛読してゐる。一時は「水滸伝」の中の一百八人の豪傑の名前を悉く諳記してゐたことがある。その時分でも押川春浪氏の冒険小説や何かよりもこの「水滸伝」だの「西遊記」だのといふ方が遥かに僕に面白かつた。\n",
            "　中学へ入学前から徳富蘆花氏の「自然と人生」や樗牛の「平家雑感」や小島烏水氏の「日本山水論」を愛読した。同時に、夏目さんの「猫」や鏡花氏の「風流線」や緑雨の「あられ酒」を愛読した。だから人の事は笑へない。僕にも「文章倶楽部」の「青年文士録」の中にあるやうな「トルストイ、坪内士行、大町桂月」時代があつた。\n",
            "　中学を卒業してから色んな本を読んだけれども、特に愛読した本といふものはないが、概して云ふと、ワイルドとかゴーチエとかいふやうな絢爛とした小説が好きであつた。それは僕の気質からも来てゐるであらうけれども、一つは慥かに日本の自然主義的な小説に厭きた反動であらうと思ふ。ところが、高等学校を卒業する前後から、どういふものか趣味や物の見方に大きな曲折が起つて、前に言つたワイルドとかゴーチエとかといふ作家のものがひどくいやになつた。ストリンドベルクなどに傾倒したのはこの頃である。その時分の僕の心持からいふと、ミケエロ・アンヂエロ風な力を持つてゐない芸術はすべて瓦礫のやうに感じられた。これは当時読んだ「ジヤンクリストフ」などの影響であつたらうと思ふ。\n",
            "　さういふ心持が大学を卒業する後までも続いたが、段々燃えるやうな力の崇拝もうすらいで、一年前から静かな力のある書物に最も心を惹かれるやうになつてゐる。但、静かなと言つてもたゞ静かだけでも力のないものには余り興味がない。スタンダールやメリメエや日本物で西鶴などの小説はこの点で今の僕には面白くもあり、又ためにもなる本である。\n",
            "　序ながら附け加へておくが、此間「ジヤンクリストフ」を出して読んで見たが、昔ほど感興が乗らなかつた。あの時分の本はだめなのかと思つたが、「アンナカレニナ」を出して二三章読んで見たら、これは昔のやうに有難い気がした。\n",
            "----------------\n",
            "子供 の 時 の 愛読 書 は 「 西遊 記 」 が 第 一 で ある 。 \n",
            "これ 等 は 今日 でも 僕 の 愛読 書 で ある 。 \n",
            "比喩 談 として これ ほど の 傑作 は 、 西洋 に は 一つ も ない で あら う と 思ふ 。 \n",
            "名高い バンヤン の 「 天 路 歴程 」 など も 到底 この 「 西遊 記 」 の 敵 で は ない 。 \n",
            "それから 「 水 滸伝 」 も 愛読 書 の 一つ で ある 。 \n",
            "これ も 今 以 て 愛読 し て ゐる 。 \n",
            "一時 は 「 水 滸伝 」 の 中 の 一 百 八 人 の 豪傑 の 名前 を 悉く 諳記 し て ゐ た こと が ある 。 \n",
            "その 時分 で も 押川 春浪 氏 の 冒険 小説 や 何 か より も この 「 水 滸伝 」 だの 「 西遊 記 」 だ の といふ 方 が 遥か に 僕 に 面白 かつ た 。 \n",
            " \n",
            " 　 中学 へ 入学 前 から 徳富 蘆花 氏 の 「 自然 と 人生 」 や 樗 牛 の 「 平家 雑感 」 や 小島 烏水 氏 の 「 日本 山水 論 」 を 愛読 し た 。 \n",
            "同時に 、 夏目 さん の 「 猫 」 や 鏡花 氏 の 「 風流 線 」 や 緑 雨 の 「 あら れ 酒 」 を 愛読 し た 。 \n",
            "だから 人 の 事 は 笑 へ ない 。 \n",
            "僕 に も 「 文章 倶楽部 」 の 「 青年 文士 録 」 の 中 に ある やう な 「 トルストイ 、 坪内 士行 、 大町 桂月 」 時代 が あつ た 。 \n",
            " \n",
            " 　 中学 を 卒業 し て から 色んな 本 を 読ん だ けれども 、 特に 愛読 し た 本 といふ もの は ない が 、 概して 云 ふと 、 ワイルド とか ゴー チエ とかいふ やう な 絢爛 と し た 小説 が 好き で あつ た 。 \n",
            "それ は 僕 の 気質 から も 来 て ゐる で あらう けれども 、 一つ は 慥か に 日本 の 自然 主義 的 な 小説 に 厭き た 反動 で あらう と 思ふ 。 \n",
            "ところが 、 高等 学校 を 卒業 する 前後 から 、 どう いふ もの か 趣味 や 物 の 見方 に 大きな 曲折 が 起つ て 、 前 に 言 つた ワイルド とか ゴー チエ とか といふ 作家 の もの が ひどく いや に なつ た 。 \n",
            "ストリンドベルク など に 傾倒 し た の は この 頃 で ある 。 \n",
            "その 時分 の 僕 の 心持 から いふ と 、 ミケエロ・アンヂエロ 風 な 力 を 持つ て ゐ ない 芸術 は すべて 瓦礫 の やう に 感じ られ た 。 \n",
            "これ は 当時 読ん だ 「 ジヤンクリストフ 」 など の 影響 で あつ たら う と 思ふ 。 \n",
            " \n",
            " 　 さ う いふ 心持 が 大学 を 卒業 する 後 まで も 続い た が 、 段々 燃える やう な 力 の 崇拝 も うすらい で 、 一 年 前 から 静か な 力 の ある 書物 に 最も 心 を 惹か れる やう に なつ て ゐる 。 \n",
            "但 、 静か な と 言 つて も た ゞ 静か だけ でも 力 の ない もの に は 余り 興味 が ない 。 \n",
            "スタンダール や メリメエ や 日本 物 で 西鶴 など の 小説 は この 点 で 今 の 僕 に は 面白く も あり 、 又 ため に も なる 本 で ある 。 \n",
            " \n",
            " 　 序 ながら 附け 加 へ て おく が 、 此間 「 ジヤンクリストフ 」 を 出し て 読ん で 見 た が 、 昔 ほど 感興 が 乗ら なかつ た 。 \n",
            "あの 時分 の 本 は だめ な の か と 思 つ た が 、 「 アンナカレニナ 」 を 出し て 二 三 章 読ん で 見 たら 、 これ は 昔 の やう に 有難い 気 が し た 。 \n",
            "261 unique characters\n",
            "['\\n', '\\r', '\\u3000', '、', '。', '々', '「', '」', 'あ', 'い', 'う', 'え', 'お', 'か', 'が', 'き', 'く', 'け', 'こ', 'さ', 'し', 'じ', 'す', 'そ', 'た', 'だ', 'つ', 'て', 'で', 'と', 'ど', 'な', 'に', 'の', 'は', 'ひ', 'ふ', 'へ', 'べ', 'ほ', 'ま', 'め', 'も', 'や', 'よ', 'ら', 'り', 'る', 'れ', 'ろ', 'ゐ', 'を', 'ん', 'ゞ', 'ア', 'イ', 'エ', 'カ', 'ク', 'ケ', 'ゴ', 'ジ', 'ス', 'タ', 'ダ', 'チ', 'ヂ', 'ト', 'ド', 'ナ', 'ニ', 'バ', 'フ', 'ベ', 'ミ', 'メ', 'ヤ', 'リ', 'ル', 'レ', 'ロ', 'ワ', 'ン', '・', 'ー', '一', '三', '中', '主', '乗', '事', '二', '云', '人', '今', '代', '以', '伝', '但', '何', '余', '作', '供', '倒', '倶', '傑', '傾', '僕', '入', '八', '内', '冒', '出', '分', '到', '前', '力', '加', '動', '卒', '厭', '又', '反', '同', '名', '味', '喩', '坪', '士', '夏', '大', '天', '好', '子', '学', '家', '富', '小', '山', '島', '崇', '川', '平', '年', '序', '底', '当', '影', '後', '徳', '心', '思', '悉', '惹', '愛', '感', '慥', '折', '押', '拝', '持', '敵', '文', '方', '日', '昔', '春', '時', '曲', '書', '最', '月', '有', '本', '来', '校', '桂', '業', '楽', '概', '樗', '此', '歴', '段', '比', '氏', '気', '水', '洋', '流', '浪', '滸', '点', '烏', '然', '燃', '爛', '牛', '物', '特', '猫', '瓦', '生', '町', '白', '百', '的', '目', '礫', '程', '章', '笑', '第', '等', '絢', '続', '緑', '線', '義', '自', '興', '色', '花', '芸', '蘆', '行', '術', '西', '見', '言', '記', '説', '読', '談', '論', '諳', '豪', '質', '起', '趣', '路', '遊', '遥', '部', '酒', '録', '鏡', '間', '附', '険', '雑', '難', '雨', '青', '静', '面', '響', '頃', '風', '高', '鶴']\n"
          ]
        }
      ]
    }
  ]
}