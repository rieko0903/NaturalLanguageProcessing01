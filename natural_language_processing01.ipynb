{
  "nbformat": 4,
  "nbformat_minor": 0,
  "metadata": {
    "colab": {
      "provenance": [],
      "collapsed_sections": [],
      "authorship_tag": "ABX9TyPK8SRj3ZyQdRDEo4xwFfdQ",
      "include_colab_link": true
    },
    "kernelspec": {
      "name": "python3",
      "display_name": "Python 3"
    },
    "language_info": {
      "name": "python"
    }
  },
  "cells": [
    {
      "cell_type": "markdown",
      "metadata": {
        "id": "view-in-github",
        "colab_type": "text"
      },
      "source": [
        "<a href=\"https://colab.research.google.com/github/rieko0903/NaturalLanguageProcessing01/blob/test02/natural_language_processing01.ipynb\" target=\"_parent\"><img src=\"https://colab.research.google.com/assets/colab-badge.svg\" alt=\"Open In Colab\"/></a>"
      ]
    },
    {
      "cell_type": "markdown",
      "source": [
        "# pip"
      ],
      "metadata": {
        "id": "Pi-U4BuCMFqh"
      }
    },
    {
      "cell_type": "code",
      "source": [
        "!pip install janome"
      ],
      "metadata": {
        "colab": {
          "base_uri": "https://localhost:8080/"
        },
        "id": "PF8uq-0wLe6k",
        "outputId": "ba321aaf-bd5d-4231-e136-8264a1e2d7b8"
      },
      "execution_count": null,
      "outputs": [
        {
          "output_type": "stream",
          "name": "stdout",
          "text": [
            "Looking in indexes: https://pypi.org/simple, https://us-python.pkg.dev/colab-wheels/public/simple/\n",
            "Collecting janome\n",
            "  Downloading Janome-0.4.2-py2.py3-none-any.whl (19.7 MB)\n",
            "\u001b[K     |████████████████████████████████| 19.7 MB 1.2 MB/s \n",
            "\u001b[?25hInstalling collected packages: janome\n",
            "Successfully installed janome-0.4.2\n"
          ]
        }
      ]
    },
    {
      "cell_type": "markdown",
      "source": [
        "# import"
      ],
      "metadata": {
        "id": "ElG5tXx_MThs"
      }
    },
    {
      "cell_type": "code",
      "source": [
        "import tensorflow as tf\n",
        "import glob\n",
        "import logging\n",
        "import os\n",
        "import re\n",
        "import urllib\n",
        "import warnings\n",
        "import zipfile\n",
        "\n",
        "import gensim\n",
        "import numpy as np\n",
        "import tensorflow as tf\n",
        "\n",
        "from gensim.models.word2vec import Word2Vec\n",
        "from janome.tokenizer import Tokenizer"
      ],
      "metadata": {
        "id": "oBHGXieLMS4E"
      },
      "execution_count": null,
      "outputs": []
    },
    {
      "cell_type": "code",
      "source": [
        "URL = 'https://www.aozora.gr.jp/cards/000879/files/4872_ruby_20864.zip'"
      ],
      "metadata": {
        "id": "w4lC70RvM_0X"
      },
      "execution_count": null,
      "outputs": []
    },
    {
      "cell_type": "markdown",
      "source": [
        "# 文書のダウンロード"
      ],
      "metadata": {
        "id": "EYJXpSXUNY87"
      }
    },
    {
      "cell_type": "code",
      "source": [
        "def download(url):\n",
        " # データファイルをダウンロードする\n",
        " zip_file = re.split(r'/', url)[-1]\n",
        " \n",
        " if not os.path.exists(zip_file):\n",
        "     print('Download URL')\n",
        "     print('URL:',url)\n",
        "     urllib.request.urlretrieve(url, zip_file)\n",
        " else:\n",
        "     print('Download File exists')\n",
        " \n",
        " # フォルダの生成\n",
        " dir, ext = os.path.splitext(zip_file)\n",
        " if not os.path.exists(dir):\n",
        "     os.makedirs(dir)\n",
        " \n",
        " # zipファイルの展開\n",
        " zip_obj = zipfile.ZipFile(zip_file, 'r')\n",
        " zip_obj.extractall(dir)\n",
        " zip_obj.close()\n",
        " \n",
        " # zipファイルの削除\n",
        " os.remove(zip_file)\n",
        " \n",
        " # テキストファイルの抽出\n",
        " path = os.path.join(dir,'*.txt')\n",
        " list = glob.glob(path)\n",
        " return list[0]"
      ],
      "metadata": {
        "id": "1G6x6DmRNcog"
      },
      "execution_count": null,
      "outputs": []
    },
    {
      "cell_type": "markdown",
      "source": [
        "# 文書の整形"
      ],
      "metadata": {
        "id": "K1ZzF_wtM9qx"
      }
    },
    {
      "cell_type": "code",
      "source": [
        "def convert(download_text):\n",
        "    binarydata = open(download_text, 'rb').read()\n",
        "    text = binarydata.decode('shift_jis')\n",
        " \n",
        "    # ルビ、注釈などの除去\n",
        "    text = re.split(r'\\-{5,}', text)[2]\n",
        "    text = re.split(r'底本：', text)[0]\n",
        "    text = re.sub(r'《.+?》', '', text)\n",
        "    text = re.sub(r'［＃.+?］', '', text)\n",
        "    text = text.strip()\n",
        "    return text"
      ],
      "metadata": {
        "id": "Pl8pCU7BNXos"
      },
      "execution_count": null,
      "outputs": []
    },
    {
      "cell_type": "code",
      "source": [
        "def main():\n",
        "    download_text = download(URL)\n",
        "    text = convert(download_text)\n",
        "    print(text)\n",
        "if __name__ == \"__main__\":\n",
        "    main()"
      ],
      "metadata": {
        "colab": {
          "base_uri": "https://localhost:8080/"
        },
        "id": "oVOxAIqiNumE",
        "outputId": "076ad4d4-9c20-4d1d-a2cf-c5cb48f9b660"
      },
      "execution_count": null,
      "outputs": [
        {
          "output_type": "stream",
          "name": "stdout",
          "text": [
            "Download URL\n",
            "URL: https://www.aozora.gr.jp/cards/000879/files/4872_ruby_20864.zip\n",
            "子供の時の愛読書は「西遊記」が第一である。これ等は今日でも僕の愛読書である。比喩談としてこれほどの傑作は、西洋には一つもないであらうと思ふ。名高いバンヤンの「天路歴程」なども到底この「西遊記」の敵ではない。それから「水滸伝」も愛読書の一つである。これも今以て愛読してゐる。一時は「水滸伝」の中の一百八人の豪傑の名前を悉く諳記してゐたことがある。その時分でも押川春浪氏の冒険小説や何かよりもこの「水滸伝」だの「西遊記」だのといふ方が遥かに僕に面白かつた。\n",
            "　中学へ入学前から徳富蘆花氏の「自然と人生」や樗牛の「平家雑感」や小島烏水氏の「日本山水論」を愛読した。同時に、夏目さんの「猫」や鏡花氏の「風流線」や緑雨の「あられ酒」を愛読した。だから人の事は笑へない。僕にも「文章倶楽部」の「青年文士録」の中にあるやうな「トルストイ、坪内士行、大町桂月」時代があつた。\n",
            "　中学を卒業してから色んな本を読んだけれども、特に愛読した本といふものはないが、概して云ふと、ワイルドとかゴーチエとかいふやうな絢爛とした小説が好きであつた。それは僕の気質からも来てゐるであらうけれども、一つは慥かに日本の自然主義的な小説に厭きた反動であらうと思ふ。ところが、高等学校を卒業する前後から、どういふものか趣味や物の見方に大きな曲折が起つて、前に言つたワイルドとかゴーチエとかといふ作家のものがひどくいやになつた。ストリンドベルクなどに傾倒したのはこの頃である。その時分の僕の心持からいふと、ミケエロ・アンヂエロ風な力を持つてゐない芸術はすべて瓦礫のやうに感じられた。これは当時読んだ「ジヤンクリストフ」などの影響であつたらうと思ふ。\n",
            "　さういふ心持が大学を卒業する後までも続いたが、段々燃えるやうな力の崇拝もうすらいで、一年前から静かな力のある書物に最も心を惹かれるやうになつてゐる。但、静かなと言つてもたゞ静かだけでも力のないものには余り興味がない。スタンダールやメリメエや日本物で西鶴などの小説はこの点で今の僕には面白くもあり、又ためにもなる本である。\n",
            "　序ながら附け加へておくが、此間「ジヤンクリストフ」を出して読んで見たが、昔ほど感興が乗らなかつた。あの時分の本はだめなのかと思つたが、「アンナカレニナ」を出して二三章読んで見たら、これは昔のやうに有難い気がした。\n"
          ]
        }
      ]
    }
  ]
}