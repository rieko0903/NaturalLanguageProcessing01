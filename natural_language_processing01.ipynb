{
  "nbformat": 4,
  "nbformat_minor": 0,
  "metadata": {
    "colab": {
      "provenance": [],
      "collapsed_sections": [],
      "authorship_tag": "ABX9TyNBWqN42iAbyu1heSMENPR8",
      "include_colab_link": true
    },
    "kernelspec": {
      "name": "python3",
      "display_name": "Python 3"
    },
    "language_info": {
      "name": "python"
    }
  },
  "cells": [
    {
      "cell_type": "markdown",
      "metadata": {
        "id": "view-in-github",
        "colab_type": "text"
      },
      "source": [
        "<a href=\"https://colab.research.google.com/github/rieko0903/NaturalLanguageProcessing01/blob/test02/natural_language_processing01.ipynb\" target=\"_parent\"><img src=\"https://colab.research.google.com/assets/colab-badge.svg\" alt=\"Open In Colab\"/></a>"
      ]
    },
    {
      "cell_type": "markdown",
      "source": [
        "# pip"
      ],
      "metadata": {
        "id": "Pi-U4BuCMFqh"
      }
    },
    {
      "cell_type": "code",
      "source": [
        "!pip install janome"
      ],
      "metadata": {
        "colab": {
          "base_uri": "https://localhost:8080/"
        },
        "id": "PF8uq-0wLe6k",
        "outputId": "ba321aaf-bd5d-4231-e136-8264a1e2d7b8"
      },
      "execution_count": null,
      "outputs": [
        {
          "output_type": "stream",
          "name": "stdout",
          "text": [
            "Looking in indexes: https://pypi.org/simple, https://us-python.pkg.dev/colab-wheels/public/simple/\n",
            "Collecting janome\n",
            "  Downloading Janome-0.4.2-py2.py3-none-any.whl (19.7 MB)\n",
            "\u001b[K     |████████████████████████████████| 19.7 MB 1.2 MB/s \n",
            "\u001b[?25hInstalling collected packages: janome\n",
            "Successfully installed janome-0.4.2\n"
          ]
        }
      ]
    },
    {
      "cell_type": "markdown",
      "source": [
        "# import"
      ],
      "metadata": {
        "id": "ElG5tXx_MThs"
      }
    },
    {
      "cell_type": "code",
      "source": [
        "import tensorflow as tf\n",
        "import glob\n",
        "import logging\n",
        "import os\n",
        "import re\n",
        "import urllib\n",
        "import warnings\n",
        "import zipfile\n",
        "\n",
        "import gensim\n",
        "import numpy as np\n",
        "import tensorflow as tf\n",
        "\n",
        "from bs4 import BeautifulSoup\n",
        "from urllib import request\n",
        "from gensim.models.word2vec import Word2Vec\n",
        "from janome.tokenizer import Tokenizer"
      ],
      "metadata": {
        "id": "oBHGXieLMS4E"
      },
      "execution_count": 68,
      "outputs": []
    },
    {
      "cell_type": "code",
      "source": [
        "URL = 'https://www.aozora.gr.jp/cards/000074/files/427_19793.html'\n",
        "t = Tokenizer(wakati=True)"
      ],
      "metadata": {
        "id": "w4lC70RvM_0X"
      },
      "execution_count": 69,
      "outputs": []
    },
    {
      "cell_type": "markdown",
      "source": [
        "# 学習の準備"
      ],
      "metadata": {
        "id": "EYJXpSXUNY87"
      }
    },
    {
      "cell_type": "markdown",
      "source": [
        "## 文章のスクレイピング\n",
        "* xtml形式の表示からclass=main_textをスクレイピングする\n",
        "* 本文以外の要素を削除する(brタグ等)"
      ],
      "metadata": {
        "id": "Tz8mVk871lvD"
      }
    },
    {
      "cell_type": "code",
      "source": [
        "def load_aozora_text(url):\n",
        "    response = request.urlopen(url)\n",
        "    soup = BeautifulSoup(response)\n",
        "    response.close()\n",
        "    text = soup.find('div', class_='main_text')\n",
        "    tags_to_delete = text.find_all(['rp', 'rt'])\n",
        "    for tag in tags_to_delete:\n",
        "        tag.decompose()\n",
        "    text = text.get_text()\n",
        "    text = text.replace('\\r', '').replace('\\n', '').replace('\\u3000', '')\n",
        "    return text"
      ],
      "metadata": {
        "id": "1G6x6DmRNcog"
      },
      "execution_count": 70,
      "outputs": []
    },
    {
      "cell_type": "markdown",
      "source": [
        "## 文章を扱いやすくするための事前処理"
      ],
      "metadata": {
        "id": "sRh5wvYzJ-BF"
      }
    },
    {
      "cell_type": "code",
      "source": [
        "def preprocess(text):\n",
        "    pass"
      ],
      "metadata": {
        "id": "ci0rp5LuJ9nP"
      },
      "execution_count": 95,
      "outputs": []
    },
    {
      "cell_type": "markdown",
      "source": [
        "## インプット文字列とターゲット文字列を１ずらす"
      ],
      "metadata": {
        "id": "fdEp9LfGIZZF"
      }
    },
    {
      "cell_type": "code",
      "source": [
        "def split_input_target(chunk):\n",
        "    input_text = chunk[:-1]\n",
        "    target_text = chunk[1:]\n",
        "    return input_text, target_text"
      ],
      "metadata": {
        "id": "zXiKbER9C-Uh"
      },
      "execution_count": 82,
      "outputs": []
    },
    {
      "cell_type": "code",
      "source": [
        "class AozoraText:\n",
        "  def __init__(self, url):\n",
        "    self.text = load_aozora_text(URL)\n",
        "    self.wakati, self.word2idx, self.idx2word, self.corpus = preprocess(self.text)\n",
        "\n",
        "  def make_writer_dataset(self, batch_size, seq_length):\n",
        "    data = tf.data.Dataset.from_tensor_slices(self.corpus)\n",
        "    sequences = data.batch(seq_length+1, drop_remainder=True)\n",
        "    dataset = sequences.map(split_input_target)\n",
        "    return dataset.shuffle(buffer_size=10000).batch(batch_size=batch_size, drop_remainder=True)"
      ],
      "metadata": {
        "id": "qpVx_rLpt7aq"
      },
      "execution_count": 92,
      "outputs": []
    },
    {
      "cell_type": "code",
      "source": [],
      "metadata": {
        "id": "3BfpXjscKvMC"
      },
      "execution_count": null,
      "outputs": []
    },
    {
      "cell_type": "code",
      "source": [
        "if __name__ == \"__main__\":\n",
        "    aozora = AozoraText(URL)"
      ],
      "metadata": {
        "colab": {
          "base_uri": "https://localhost:8080/",
          "height": 207
        },
        "id": "SvS-F-Rusp64",
        "outputId": "4ddeb9c9-fa9d-46b5-a638-3a62595aaba4"
      },
      "execution_count": 94,
      "outputs": [
        {
          "output_type": "error",
          "ename": "AttributeError",
          "evalue": "ignored",
          "traceback": [
            "\u001b[0;31m---------------------------------------------------------------------------\u001b[0m",
            "\u001b[0;31mAttributeError\u001b[0m                            Traceback (most recent call last)",
            "\u001b[0;32m<ipython-input-94-41a2a36e61c8>\u001b[0m in \u001b[0;36m<module>\u001b[0;34m\u001b[0m\n\u001b[1;32m      1\u001b[0m \u001b[0;32mif\u001b[0m \u001b[0m__name__\u001b[0m \u001b[0;34m==\u001b[0m \u001b[0;34m\"__main__\"\u001b[0m\u001b[0;34m:\u001b[0m\u001b[0;34m\u001b[0m\u001b[0;34m\u001b[0m\u001b[0m\n\u001b[1;32m      2\u001b[0m     \u001b[0maozora\u001b[0m \u001b[0;34m=\u001b[0m \u001b[0mAozoraText\u001b[0m\u001b[0;34m(\u001b[0m\u001b[0mURL\u001b[0m\u001b[0;34m)\u001b[0m\u001b[0;34m\u001b[0m\u001b[0;34m\u001b[0m\u001b[0m\n\u001b[0;32m----> 3\u001b[0;31m     \u001b[0mdataset\u001b[0m \u001b[0;34m=\u001b[0m \u001b[0maozora\u001b[0m\u001b[0;34m.\u001b[0m\u001b[0msequences\u001b[0m\u001b[0;34m.\u001b[0m\u001b[0mmap\u001b[0m\u001b[0;34m(\u001b[0m\u001b[0msplit_input_target\u001b[0m\u001b[0;34m)\u001b[0m\u001b[0;34m\u001b[0m\u001b[0;34m\u001b[0m\u001b[0m\n\u001b[0m",
            "\u001b[0;31mAttributeError\u001b[0m: 'AozoraText' object has no attribute 'sequences'"
          ]
        }
      ]
    }
  ]
}